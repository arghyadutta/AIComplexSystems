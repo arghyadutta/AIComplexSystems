{
 "cells": [
  {
   "cell_type": "markdown",
   "metadata": {},
   "source": [
    "# AI in complex systems: Notebook 1\n",
    "## Preliminaries"
   ]
  },
  {
   "cell_type": "code",
   "execution_count": 1,
   "metadata": {},
   "outputs": [],
   "source": [
    "import numpy as np\n",
    "import matplotlib.pyplot as plt\n",
    "from collections import Counter"
   ]
  },
  {
   "cell_type": "markdown",
   "metadata": {},
   "source": [
    "## NumPy\n",
    "\n",
    "- Efficient and powerful library of arrays\n",
    "- NumPy arrays are more efficient than Python lists as they are stored in a contiguous block of memory.\n",
    "- Many functions are available for mathematical operations, linear algebra, random number generation...\n",
    "\n",
    "Resources:\n",
    "\n",
    "- Beginner: [Numpy official tutorial](https://numpy.org/doc/stable/user/absolute_beginners.html)\n",
    "- Somewhat advanced: [Nicolas P. Rougier's tutorial](https://github.com/rougier/numpy-tutorial?tab=readme-ov-file)\n",
    "- Also see [M Scott Shell's notes](https://sites.engineering.ucsb.edu/~shell/che210d/numpy.pdf)"
   ]
  },
  {
   "cell_type": "markdown",
   "metadata": {},
   "source": [
    "### Defining arrays"
   ]
  },
  {
   "cell_type": "code",
   "execution_count": 2,
   "metadata": {},
   "outputs": [
    {
     "data": {
      "text/plain": [
       "array([1, 2, 3, 4, 5])"
      ]
     },
     "execution_count": 2,
     "metadata": {},
     "output_type": "execute_result"
    }
   ],
   "source": [
    "# 1D array\n",
    "arr1 = np.array([1, 2, 3, 4, 5])\n",
    "arr1"
   ]
  },
  {
   "cell_type": "code",
   "execution_count": 3,
   "metadata": {},
   "outputs": [
    {
     "data": {
      "text/plain": [
       "array([[1, 2, 3],\n",
       "       [4, 5, 6]])"
      ]
     },
     "execution_count": 3,
     "metadata": {},
     "output_type": "execute_result"
    }
   ],
   "source": [
    "# 2D array\n",
    "arr2 = np.array([[1, 2, 3], [4, 5, 6]])\n",
    "arr2"
   ]
  },
  {
   "cell_type": "markdown",
   "metadata": {},
   "source": [
    "### Array attributes"
   ]
  },
  {
   "cell_type": "code",
   "execution_count": 4,
   "metadata": {},
   "outputs": [
    {
     "data": {
      "text/plain": [
       "(2, 3)"
      ]
     },
     "execution_count": 4,
     "metadata": {},
     "output_type": "execute_result"
    },
    {
     "data": {
      "text/plain": [
       "dtype('int64')"
      ]
     },
     "execution_count": 4,
     "metadata": {},
     "output_type": "execute_result"
    },
    {
     "data": {
      "text/plain": [
       "6"
      ]
     },
     "execution_count": 4,
     "metadata": {},
     "output_type": "execute_result"
    },
    {
     "data": {
      "text/plain": [
       "2"
      ]
     },
     "execution_count": 4,
     "metadata": {},
     "output_type": "execute_result"
    }
   ],
   "source": [
    "arr2.shape\n",
    "arr2.dtype  # data type\n",
    "arr2.size\n",
    "arr2.ndim  # number of dimensions"
   ]
  },
  {
   "cell_type": "markdown",
   "metadata": {},
   "source": [
    "### Initializing arrays"
   ]
  },
  {
   "cell_type": "code",
   "execution_count": 5,
   "metadata": {},
   "outputs": [
    {
     "data": {
      "text/plain": [
       "array([[0., 0., 0.],\n",
       "       [0., 0., 0.],\n",
       "       [0., 0., 0.]])"
      ]
     },
     "execution_count": 5,
     "metadata": {},
     "output_type": "execute_result"
    }
   ],
   "source": [
    "zeros_arr = np.zeros((3, 3))\n",
    "zeros_arr"
   ]
  },
  {
   "cell_type": "code",
   "execution_count": 6,
   "metadata": {},
   "outputs": [
    {
     "data": {
      "text/plain": [
       "array([[1., 1., 1., 1.],\n",
       "       [1., 1., 1., 1.]])"
      ]
     },
     "execution_count": 6,
     "metadata": {},
     "output_type": "execute_result"
    }
   ],
   "source": [
    "ones_arr = np.ones((2, 4))\n",
    "ones_arr"
   ]
  },
  {
   "cell_type": "code",
   "execution_count": 7,
   "metadata": {},
   "outputs": [
    {
     "data": {
      "text/plain": [
       "array([[7, 7, 7, 7],\n",
       "       [7, 7, 7, 7],\n",
       "       [7, 7, 7, 7],\n",
       "       [7, 7, 7, 7]])"
      ]
     },
     "execution_count": 7,
     "metadata": {},
     "output_type": "execute_result"
    }
   ],
   "source": [
    "full_arr = np.full((4, 4), 7)\n",
    "full_arr"
   ]
  },
  {
   "cell_type": "code",
   "execution_count": 8,
   "metadata": {},
   "outputs": [
    {
     "data": {
      "text/plain": [
       "array([[1., 0., 0.],\n",
       "       [0., 1., 0.],\n",
       "       [0., 0., 1.]])"
      ]
     },
     "execution_count": 8,
     "metadata": {},
     "output_type": "execute_result"
    }
   ],
   "source": [
    "identity_matrix = np.eye(3)\n",
    "identity_matrix"
   ]
  },
  {
   "cell_type": "code",
   "execution_count": 37,
   "metadata": {},
   "outputs": [
    {
     "data": {
      "text/plain": [
       "array([[4.17022005e-01, 7.20324493e-01, 1.14374817e-04],\n",
       "       [3.02332573e-01, 1.46755891e-01, 9.23385948e-02]])"
      ]
     },
     "execution_count": 37,
     "metadata": {},
     "output_type": "execute_result"
    }
   ],
   "source": [
    "# Array with random values\n",
    "# np.random.seed(1)\n",
    "random_arr = np.random.random((2, 3))\n",
    "random_arr"
   ]
  },
  {
   "cell_type": "markdown",
   "metadata": {},
   "source": [
    "### Accessing elements"
   ]
  },
  {
   "cell_type": "code",
   "execution_count": 10,
   "metadata": {},
   "outputs": [
    {
     "data": {
      "text/plain": [
       "10"
      ]
     },
     "execution_count": 10,
     "metadata": {},
     "output_type": "execute_result"
    },
    {
     "data": {
      "text/plain": [
       "50"
      ]
     },
     "execution_count": 10,
     "metadata": {},
     "output_type": "execute_result"
    }
   ],
   "source": [
    "arr = np.array([10, 20, 30, 40, 50])\n",
    "\n",
    "arr[0]  # first element\n",
    "arr[-1]  # last element"
   ]
  },
  {
   "cell_type": "code",
   "execution_count": 11,
   "metadata": {},
   "outputs": [
    {
     "data": {
      "text/plain": [
       "array([20, 30, 40])"
      ]
     },
     "execution_count": 11,
     "metadata": {},
     "output_type": "execute_result"
    },
    {
     "data": {
      "text/plain": [
       "array([10, 30, 50])"
      ]
     },
     "execution_count": 11,
     "metadata": {},
     "output_type": "execute_result"
    },
    {
     "data": {
      "text/plain": [
       "array([10, 20])"
      ]
     },
     "execution_count": 11,
     "metadata": {},
     "output_type": "execute_result"
    }
   ],
   "source": [
    "# Slicing\n",
    "arr[1:4]\n",
    "arr[::2]  # Every second element\n",
    "arr[:2]"
   ]
  },
  {
   "cell_type": "code",
   "execution_count": 12,
   "metadata": {},
   "outputs": [
    {
     "data": {
      "text/plain": [
       "array([[1, 2, 3],\n",
       "       [4, 5, 6],\n",
       "       [7, 8, 9]])"
      ]
     },
     "execution_count": 12,
     "metadata": {},
     "output_type": "execute_result"
    },
    {
     "data": {
      "text/plain": [
       "6"
      ]
     },
     "execution_count": 12,
     "metadata": {},
     "output_type": "execute_result"
    },
    {
     "data": {
      "text/plain": [
       "array([[1],\n",
       "       [4]])"
      ]
     },
     "execution_count": 12,
     "metadata": {},
     "output_type": "execute_result"
    }
   ],
   "source": [
    "# Multi-dimensional arrays\n",
    "arr2 = np.array([[1, 2, 3], [4, 5, 6], [7, 8, 9]])\n",
    "arr2\n",
    "arr2[1, 2]\n",
    "arr2[:2, :1]"
   ]
  },
  {
   "cell_type": "markdown",
   "metadata": {},
   "source": [
    "### mathematical operations"
   ]
  },
  {
   "cell_type": "code",
   "execution_count": 13,
   "metadata": {},
   "outputs": [
    {
     "data": {
      "text/plain": [
       "array([0.0000000e+00, 1.0000000e+00, 1.2246468e-16])"
      ]
     },
     "execution_count": 13,
     "metadata": {},
     "output_type": "execute_result"
    },
    {
     "data": {
      "text/plain": [
       "array([ 1.000000e+00,  6.123234e-17, -1.000000e+00])"
      ]
     },
     "execution_count": 13,
     "metadata": {},
     "output_type": "execute_result"
    },
    {
     "data": {
      "text/plain": [
       "array([0.        , 1.25331414, 1.77245385])"
      ]
     },
     "execution_count": 13,
     "metadata": {},
     "output_type": "execute_result"
    }
   ],
   "source": [
    "arr = np.array([0, np.pi / 2, np.pi])\n",
    "\n",
    "np.sin(arr)\n",
    "np.cos(arr)\n",
    "np.sqrt(arr)"
   ]
  },
  {
   "cell_type": "code",
   "execution_count": 14,
   "metadata": {},
   "outputs": [
    {
     "name": "stdout",
     "output_type": "stream",
     "text": [
      "Addition: [5 7 9]\n",
      "Multiplication: [ 4 10 18]\n"
     ]
    }
   ],
   "source": [
    "# element-wise Operations\n",
    "\n",
    "arr1 = np.array([1, 2, 3])\n",
    "arr2 = np.array([4, 5, 6])\n",
    "print(\"Addition:\", arr1 + arr2)\n",
    "print(\"Multiplication:\", arr1 * arr2)"
   ]
  },
  {
   "cell_type": "code",
   "execution_count": 15,
   "metadata": {},
   "outputs": [
    {
     "name": "stdout",
     "output_type": "stream",
     "text": [
      "Adding 5 to each element: [6 7 8]\n"
     ]
    }
   ],
   "source": [
    "# Broadcasting: operations on arrays of different shapes by expanding one array to match the shape of the other.\n",
    "\n",
    "arr = np.array([1, 2, 3])\n",
    "print(\"Adding 5 to each element:\", arr + 5)"
   ]
  },
  {
   "cell_type": "markdown",
   "metadata": {},
   "source": [
    "### Reshaping and Resizing"
   ]
  },
  {
   "cell_type": "code",
   "execution_count": 16,
   "metadata": {},
   "outputs": [
    {
     "data": {
      "text/plain": [
       "array([[1, 2, 3],\n",
       "       [4, 5, 6]])"
      ]
     },
     "execution_count": 16,
     "metadata": {},
     "output_type": "execute_result"
    },
    {
     "data": {
      "text/plain": [
       "array([[1, 2],\n",
       "       [3, 4],\n",
       "       [5, 6]])"
      ]
     },
     "execution_count": 16,
     "metadata": {},
     "output_type": "execute_result"
    },
    {
     "data": {
      "text/plain": [
       "array([[1, 2],\n",
       "       [3, 4],\n",
       "       [5, 6]])"
      ]
     },
     "execution_count": 16,
     "metadata": {},
     "output_type": "execute_result"
    }
   ],
   "source": [
    "arr = np.array([[1, 2, 3], [4, 5, 6]])\n",
    "arr\n",
    "# Reshape (2x3 to 3x2)\n",
    "reshaped_arr = arr.reshape((3, 2))\n",
    "reshaped_arr\n",
    "\n",
    "arr.resize((3, 2))  # Resize (modifies the array in place)\n",
    "arr"
   ]
  },
  {
   "cell_type": "markdown",
   "metadata": {},
   "source": [
    "### Aggregation Functions: to compute summaries of arrays"
   ]
  },
  {
   "cell_type": "code",
   "execution_count": 17,
   "metadata": {},
   "outputs": [
    {
     "data": {
      "text/plain": [
       "15"
      ]
     },
     "execution_count": 17,
     "metadata": {},
     "output_type": "execute_result"
    },
    {
     "data": {
      "text/plain": [
       "3.0"
      ]
     },
     "execution_count": 17,
     "metadata": {},
     "output_type": "execute_result"
    },
    {
     "data": {
      "text/plain": [
       "1.4142135623730951"
      ]
     },
     "execution_count": 17,
     "metadata": {},
     "output_type": "execute_result"
    },
    {
     "data": {
      "text/plain": [
       "1"
      ]
     },
     "execution_count": 17,
     "metadata": {},
     "output_type": "execute_result"
    },
    {
     "data": {
      "text/plain": [
       "5"
      ]
     },
     "execution_count": 17,
     "metadata": {},
     "output_type": "execute_result"
    }
   ],
   "source": [
    "arr1 = np.array([1, 2, 3, 4, 5])\n",
    "arr1.sum()\n",
    "arr1.mean()\n",
    "arr1.std()\n",
    "arr1.min()\n",
    "arr1.max()"
   ]
  },
  {
   "cell_type": "markdown",
   "metadata": {},
   "source": [
    "## Histograms\n",
    "\n",
    "By partitioning the data into bins (intervals) and showing the frequency of data points that fall within each bin, a histogram shows how a numerical data is distributed. They are useful in data analysis to identify patterns or anomalies in the distribution.\n",
    "\n",
    "From Wikipedia\n",
    "\n",
    "> \"A histogram is a visual representation of the distribution of quantitative data. The term was first introduced by Karl Pearson. To construct a histogram, the first step is to \"bin\" (or \"bucket\") the range of values— divide the entire range of values into a series of intervals—and then count how many values fall into each interval. The bins are usually specified as consecutive, non-overlapping intervals of a variable. The bins (intervals) are adjacent and are typically (but not required to be) of equal size.\"\n",
    "\n",
    "> \"Histograms give a rough sense of the density of the underlying distribution of the data, and often for density estimation: estimating the probability density function of the underlying variable.\""
   ]
  },
  {
   "cell_type": "code",
   "execution_count": 42,
   "metadata": {},
   "outputs": [
    {
     "data": {
      "text/plain": [
       "85"
      ]
     },
     "execution_count": 42,
     "metadata": {},
     "output_type": "execute_result"
    },
    {
     "data": {
      "text/plain": [
       "22"
      ]
     },
     "execution_count": 42,
     "metadata": {},
     "output_type": "execute_result"
    },
    {
     "data": {
      "text/plain": [
       "(array([4., 3., 2., 3., 2., 2., 3., 2., 1., 2.]),\n",
       " array([22. , 28.3, 34.6, 40.9, 47.2, 53.5, 59.8, 66.1, 72.4, 78.7, 85. ]),\n",
       " <BarContainer object of 10 artists>)"
      ]
     },
     "execution_count": 42,
     "metadata": {},
     "output_type": "execute_result"
    },
    {
     "data": {
      "text/plain": [
       "Text(0.5, 0, 'Age')"
      ]
     },
     "execution_count": 42,
     "metadata": {},
     "output_type": "execute_result"
    },
    {
     "data": {
      "text/plain": [
       "Text(0, 0.5, 'Number of People')"
      ]
     },
     "execution_count": 42,
     "metadata": {},
     "output_type": "execute_result"
    },
    {
     "data": {
      "image/png": "[encoded data removed]",
      "text/plain": [
       "<Figure size 640x480 with 1 Axes>"
      ]
     },
     "metadata": {},
     "output_type": "display_data"
    }
   ],
   "source": [
    "# Creating Histograms with Matplotlib\n",
    "# Ages of people in a survey\n",
    "ages = [\n",
    "    22,\n",
    "    23,\n",
    "    25,\n",
    "    27,\n",
    "    29,\n",
    "    30,\n",
    "    32,\n",
    "    35,\n",
    "    40,\n",
    "    45,\n",
    "    46,\n",
    "    47,\n",
    "    50,\n",
    "    52,\n",
    "    55,\n",
    "    57,\n",
    "    60,\n",
    "    61,\n",
    "    65,\n",
    "    68,\n",
    "    70,\n",
    "    75,\n",
    "    80,\n",
    "    85,\n",
    "]\n",
    "np.array(ages).max()\n",
    "np.array(ages).min()\n",
    "\n",
    "plt.hist(ages, bins=10, edgecolor=\"black\")\n",
    "plt.xlabel(\"Age\")\n",
    "plt.ylabel(\"Number of People\")\n",
    "# pass;"
   ]
  },
  {
   "cell_type": "markdown",
   "metadata": {},
   "source": [
    "## Playing with random numbers"
   ]
  },
  {
   "cell_type": "code",
   "execution_count": 19,
   "metadata": {},
   "outputs": [
    {
     "data": {
      "text/plain": [
       "'A'"
      ]
     },
     "execution_count": 19,
     "metadata": {},
     "output_type": "execute_result"
    },
    {
     "name": "stdout",
     "output_type": "stream",
     "text": [
      "['H', 'T', 'H', 'H', 'H', 'H', 'T', 'T', 'H', 'H', 'H', 'H', 'H', 'T', 'T', 'H', 'T', 'T', 'H', 'T']\n"
     ]
    },
    {
     "data": {
      "text/plain": [
       "(array([12.,  0.,  0.,  0.,  0.,  0.,  0.,  0.,  0.,  8.]),\n",
       " array([0. , 0.1, 0.2, 0.3, 0.4, 0.5, 0.6, 0.7, 0.8, 0.9, 1. ]),\n",
       " <BarContainer object of 10 artists>)"
      ]
     },
     "execution_count": 19,
     "metadata": {},
     "output_type": "execute_result"
    },
    {
     "data": {
      "image/png": "[encoded data removed]",
      "text/plain": [
       "<Figure size 640x480 with 1 Axes>"
      ]
     },
     "metadata": {},
     "output_type": "display_data"
    }
   ],
   "source": [
    "import random\n",
    "\n",
    "random.choice([\"A\", 1, 1.2])\n",
    "\n",
    "\n",
    "def coin_toss():\n",
    "    return random.choice([\"H\", \"T\"])\n",
    "\n",
    "\n",
    "# Simulate N coin tosses\n",
    "N = 20  # increase the number of tosses. what do you expect to happen?\n",
    "tosses = [coin_toss() for _ in range(N)]\n",
    "print(tosses)\n",
    "plt.hist(tosses)"
   ]
  },
  {
   "cell_type": "code",
   "execution_count": 20,
   "metadata": {},
   "outputs": [
    {
     "name": "stdout",
     "output_type": "stream",
     "text": [
      "Number of trials = 1\n",
      "Outcome 1 = [1 0] and number of heads = 1\n",
      "Number of trials = 2\n",
      "Outcome 1 = [1 0] and number of heads = 1\n",
      "Outcome 2 = [1 0] and number of heads = 1\n",
      "Number of trials = 3\n",
      "Outcome 1 = [1 1] and number of heads = 2\n",
      "Outcome 2 = [0 1] and number of heads = 1\n",
      "Outcome 3 = [0 1] and number of heads = 1\n",
      "Number of trials = 4\n",
      "Outcome 1 = [0 1] and number of heads = 1\n",
      "Outcome 2 = [0 1] and number of heads = 1\n",
      "Outcome 3 = [1 1] and number of heads = 2\n",
      "Outcome 4 = [1 0] and number of heads = 1\n",
      "Number of trials = 5\n",
      "Outcome 1 = [0 1] and number of heads = 1\n",
      "Outcome 2 = [1 1] and number of heads = 2\n",
      "Outcome 3 = [1 1] and number of heads = 2\n",
      "Outcome 4 = [0 1] and number of heads = 1\n",
      "Outcome 5 = [1 0] and number of heads = 1\n",
      "Number of trials = 6\n",
      "Outcome 1 = [0 0] and number of heads = 0\n",
      "Outcome 2 = [0 0] and number of heads = 0\n",
      "Outcome 3 = [1 1] and number of heads = 2\n",
      "Outcome 4 = [0 1] and number of heads = 1\n",
      "Outcome 5 = [0 0] and number of heads = 0\n",
      "Outcome 6 = [1 0] and number of heads = 1\n",
      "Number of trials = 7\n",
      "Outcome 1 = [1 1] and number of heads = 2\n",
      "Outcome 2 = [0 1] and number of heads = 1\n",
      "Outcome 3 = [1 0] and number of heads = 1\n",
      "Outcome 4 = [1 0] and number of heads = 1\n",
      "Outcome 5 = [1 1] and number of heads = 2\n",
      "Outcome 6 = [0 0] and number of heads = 0\n",
      "Outcome 7 = [0 0] and number of heads = 0\n",
      "Number of trials = 8\n",
      "Outcome 1 = [1 0] and number of heads = 1\n",
      "Outcome 2 = [0 0] and number of heads = 0\n",
      "Outcome 3 = [0 1] and number of heads = 1\n",
      "Outcome 4 = [1 0] and number of heads = 1\n",
      "Outcome 5 = [0 0] and number of heads = 0\n",
      "Outcome 6 = [0 1] and number of heads = 1\n",
      "Outcome 7 = [1 1] and number of heads = 2\n",
      "Outcome 8 = [1 0] and number of heads = 1\n",
      "Number of trials = 9\n",
      "Outcome 1 = [1 1] and number of heads = 2\n",
      "Outcome 2 = [1 1] and number of heads = 2\n",
      "Outcome 3 = [1 1] and number of heads = 2\n",
      "Outcome 4 = [0 0] and number of heads = 0\n",
      "Outcome 5 = [1 0] and number of heads = 1\n",
      "Outcome 6 = [1 0] and number of heads = 1\n",
      "Outcome 7 = [1 0] and number of heads = 1\n",
      "Outcome 8 = [0 0] and number of heads = 0\n",
      "Outcome 9 = [1 0] and number of heads = 1\n",
      "Number of trials = 10\n",
      "Outcome 1 = [0 1] and number of heads = 1\n",
      "Outcome 2 = [1 1] and number of heads = 2\n",
      "Outcome 3 = [1 1] and number of heads = 2\n",
      "Outcome 4 = [1 0] and number of heads = 1\n",
      "Outcome 5 = [0 1] and number of heads = 1\n",
      "Outcome 6 = [1 1] and number of heads = 2\n",
      "Outcome 7 = [1 1] and number of heads = 2\n",
      "Outcome 8 = [1 1] and number of heads = 2\n",
      "Outcome 9 = [1 0] and number of heads = 1\n",
      "Outcome 10 = [0 1] and number of heads = 1\n"
     ]
    },
    {
     "data": {
      "text/plain": [
       "<BarContainer object of 2 artists>"
      ]
     },
     "execution_count": 20,
     "metadata": {},
     "output_type": "execute_result"
    },
    {
     "data": {
      "image/png": "[encoded data removed]",
      "text/plain": [
       "<Figure size 640x480 with 1 Axes>"
      ]
     },
     "metadata": {},
     "output_type": "display_data"
    }
   ],
   "source": [
    "# Counting heads in two coin tosses. label 'H' by 1 and 'T' by 0. Is the result expected? what do you need to make it closer to expected?\n",
    "trials = 10\n",
    "for i in range(1, trials + 1):\n",
    "    print(f\"Number of trials = {i}\")\n",
    "    count = 0\n",
    "    sum = []\n",
    "    for j in range(1, i + 1):\n",
    "        # draw randomly from {0,1}, TWICE\n",
    "        random_array = np.random.binomial(1, 0.5, size=2)\n",
    "        sum_i = np.sum(random_array)\n",
    "        print(f\"Outcome {j} = {random_array} and number of heads = {sum_i}\")\n",
    "        sum.append(sum_i)\n",
    "# print(sum)\n",
    "# print(Counter(sum))\n",
    "plt.bar(Counter(sum).keys(), Counter(sum).values(), width=0.1)\n",
    "# pass;"
   ]
  },
  {
   "cell_type": "code",
   "execution_count": null,
   "metadata": {},
   "outputs": [],
   "source": []
  }
 ],
 "metadata": {
  "kernelspec": {
   "display_name": "base",
   "language": "python",
   "name": "python3"
  },
  "language_info": {
   "codemirror_mode": {
    "name": "ipython",
    "version": 3
   },
   "file_extension": ".py",
   "mimetype": "text/x-python",
   "name": "python",
   "nbconvert_exporter": "python",
   "pygments_lexer": "ipython3",
   "version": "3.9.18"
  }
 },
 "nbformat": 4,
 "nbformat_minor": 2
}
