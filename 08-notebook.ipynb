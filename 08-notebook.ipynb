{
 "cells": [
  {
   "cell_type": "markdown",
   "metadata": {},
   "source": [
    "# Complex Systems\n",
    "\n",
    "- Complex systems comprise many interacting components and they show emergent behavior that are not predictable from studying the individual components.\n",
    "- \"A system is complex if its behavior crucially depends on the details of the system....although a system is complex, it is still possible to get predictions for its behavior, but these predictions will be now of a probabilistic nature.\" (Giorgio Parisi, 2021 Nobel Prize in Physics)\n",
    "- Examples:\n",
    "    - Weather and climate systems\n",
    "    - Biological ecosystems\n",
    "    - Neural networks and brain dynamics\n",
    "    - Social and economic networks\n",
    "- References:\n",
    "    - Mitchell, M. (2009). Complexity: A guided tour. Oxford University Press.\n",
    "    - Parisi, G. (2002). Complex Systems: A Physicist’s Viewpoint (No. arXiv:cond-mat/0205297). arXiv. https://doi.org/10.48550/arXiv.cond-mat/0205297\n",
    "    - Grinstead, C. M., & Snell, J. L. (2006). Introduction to Probability. American Mathematical Society. https://math.dartmouth.edu/~prob/prob/prob.pdf\n",
    "    - Bianconi, G., Arenas, A., Biamonte, J., Carr, L. D., Kahng, B., Kertesz, J., Kurths, J., Lü, L., Masoller, C., Motter, A. E., Perc, M., Radicchi, F., Ramaswamy, R., Rodrigues, F. A., Sales-Pardo, M., San Miguel, M., Thurner, S., & Yasseri, T. (2023). Complex systems in the spotlight: Next steps after the 2021 Nobel Prize in Physics. Journal of Physics: Complexity, 4(1), 010201. https://doi.org/10.1088/2632-072X/ac7f75\n",
    "\n"
   ]
  },
  {
   "cell_type": "markdown",
   "metadata": {},
   "source": [
    "![](images/Complex_systems_organizational_map.jpg)\n",
    "\n",
    "\n",
    "[Source: Wikipeida](https://en.wikipedia.org/wiki/Complex_system)\n"
   ]
  },
  {
   "cell_type": "markdown",
   "metadata": {},
   "source": [
    "## Characteristics of Complex Systems\n",
    "\n",
    "- Nonlinearity: Small changes can lead to large effects.\n",
    "- Emergence: Global behavior arises from local interactions.\n",
    "- Self-organization: Systems evolve into structured patterns without external control.\n",
    "- Phase transitions: Systems undergo qualitative shifts under certain conditions."
   ]
  },
  {
   "cell_type": "markdown",
   "metadata": {},
   "source": [
    "## Examples of Complex Systems from Birds and Fish\n",
    "\n",
    "- Flocking behavior in birds is a classic example of a complex system.\n",
    "- Individual birds follow simple rules:\n",
    "    - Alignment: Steer towards the average heading of neighbors.\n",
    "    - Cohesion: Move towards the average position of neighbors.\n",
    "    - Separation: Avoid crowding neighbors.\n",
    "- These simple interactions lead to complex, coordinated group movements.\n",
    "\n",
    "\n",
    "See this astounding video! ([https://www.youtube.com/watch?v=eakKfY5aHmY](https://www.youtube.com/watch?v=UVko9jyAkQg))\n",
    "\n",
    "- Individual fish adhere to similar simple rules as flocking birds, resulting in: enhanced predator avoidance and improved foraging efficiency.\n",
    "- The collective behavior emerges without a central leader!\n",
    "- [Fish schooling](https://www.youtube.com/watch?v=15B8qN9dre4)\n",
    "- And a [simulation of the phenomena](https://vetemaa.github.io/fish-simulation/), check it!\n",
    " \n",
    "![Algorithm](images/fish.png)\n",
    "\n",
    "- [Figure source](https://comserv.cs.ut.ee/ati_thesis/datasheet.php?id=69758&year=2020)\n"
   ]
  },
  {
   "cell_type": "markdown",
   "metadata": {},
   "source": [
    "## Modeling Complex Systems\n",
    "\n",
    "- Common modeling approaches:\n",
    "    - Cellular automata (e.g., Conway’s Game of Life)\n",
    "    - Network theory (e.g., social network dynamics)\n",
    "    - Agent-based models (e.g., flocking behavior in birds)\n",
    "    - Statistical physics (e.g., Ising model for magnetism)\n",
    "\n",
    "## Emergent Behavior in the Ising Model\n",
    "\n",
    "- Below critical temperature: Spins align, resulting in global magnetization.\n",
    "- Above critical temperature: Spins are disordered, leading to random behavior.\n",
    "- Near critical temperature: The system shows criticality with long-range correlations.\n",
    "- The Ising model demonstrates self-organization: Without an external field, spins form ordered structures.\n",
    "\n",
    "\n",
    "[YouTube: Ising Model Simulation](https://www.youtube.com/watch?v=kjwKgpQ-l1s)\n",
    "\n",
    "\n"
   ]
  },
  {
   "cell_type": "markdown",
   "metadata": {},
   "source": [
    "## The Ising Model\n",
    "\n",
    "- A mathematical model used in statistical mechanics to study phase transitions.\n",
    "- Proposed by Wilhelm Lenz and further developed by Ernst Ising in 1925.\n",
    "- Describes a system of discrete spin variables arranged on a lattice.\n",
    "- Spins interact with nearest neighbors, leading to emergent patterns.\n",
    "- Imagine a lattice of tiny atomic magnets—spins—that interact with their neighbors.\n",
    "- Or think about a binary decision-making process: each spin is like a person choosing between two options, influenced by their neighbors.\n"
   ]
  },
  {
   "cell_type": "markdown",
   "metadata": {},
   "source": [
    "## Energy\n",
    "\n",
    "- Consider a two-dimensional square lattice where each site contains a spin variable.\n",
    "- Each spin can take values $S_i = \\pm 1$.\n",
    "- Spins interact with their nearest neighbors according to an interaction strength $J$.\n",
    "- The total energy of the system is given by the Hamiltonian:\n",
    "\n",
    "  $$\n",
    "  H = -J \\sum_{\\langle i,j \\rangle} S_i S_j - h \\sum_i S_i\n",
    "  $$\n",
    "\n",
    "- The first term represents spin–spin interactions, while the second term accounts for an external magnetic field $h$.\n",
    "\n",
    "## References:\n",
    "\n",
    "- Taroni, A. (2015). 90 years of the Ising model. Nature Physics, 11(12), 997–997. https://doi.org/10.1038/nphys3595 (for the story)\n",
    "- Chandler, D. (1987). Introduction to Modern Statistical Mechanics. Oxford University Press (Excellent book.)\n"
   ]
  },
  {
   "cell_type": "markdown",
   "metadata": {},
   "source": [
    "## Statistical Mechanics\n",
    "\n",
    "- The probability of a given spin configuration $S$ follows the Boltzmann distribution:\n",
    "\n",
    "  $$\n",
    "  P(S) = \\frac{e^{-H(S) / k_{\\rm B} T}}{Z}\n",
    "  $$\n",
    "\n",
    "- The partition function $Z$ normalizes the probability distribution:\n",
    "\n",
    "  $$\n",
    "  Z = \\sum_{\\{S\\}} e^{-H(S) / k_{\\rm B} T}\n",
    "  $$\n",
    "\n",
    "- Important observables derived from this formulation include the magnetization:\n",
    "\n",
    "  $$\n",
    "  M = \\frac{1}{N} \\sum_i S_i\n",
    "  $$\n",
    "\n",
    "- And the susceptibility:\n",
    "\n",
    "  $$\n",
    "  \\chi = \\frac{1}{k_{\\rm B} T} (\\langle M^2 \\rangle - \\langle M \\rangle^2)\n",
    "  $$\n",
    "\n",
    "\n",
    "## Phase Transition in 2D Ising Model\n",
    "\n",
    "- The 2D Ising model undergoes a phase transition at a critical temperature $T_c$.\n",
    "- Below $T_c$, the system exhibits spontaneous magnetization.\n",
    "- Above $T_c$, the system is in a disordered phase.\n",
    "- The exact critical temperature for a square lattice with zero external field is:\n",
    "\n",
    "  $$\n",
    "  T_{\\rm C} = \\frac{2 J}{k_{\\rm B} \\ln(1+\\sqrt{2})}\n",
    "  $$\n",
    "\n",
    "- This transition is an example of spontaneous symmetry breaking.\n",
    "\n"
   ]
  },
  {
   "cell_type": "markdown",
   "metadata": {},
   "source": [
    "## Monte Carlo Simulation: Metropolis Algorithm\n",
    "\n",
    "- The Ising model is typically simulated using Monte Carlo methods.\n",
    "- The Metropolis algorithm is an efficient Markov Chain Monte Carlo (MCMC) method.\n",
    "\n",
    "## Algorithm Steps:\n",
    "1. Select a random spin $S_i$.\n",
    "2. Compute the energy change if the spin is flipped:\n",
    "\n",
    "   $$\n",
    "   \\Delta E = 2 J S_i \\sum_{\\text{nn}} S_j\n",
    "   $$\n",
    "\n",
    "3. Accept the flip with probability (more in the next class)\n",
    "\n",
    "   $$\n",
    "   P = \\min(1, e^{-\\Delta E / k_{\\rm B} T})\n",
    "   $$\n",
    "\n",
    "4. Iterate till equilibrium.\n",
    "\n",
    "## References:\n",
    "\n",
    "- *Really great book, if you ever want to use computational physics*: Böttcher, L., & Herrmann, H. J. (2021). Computational Statistical Physics (1st ed.). Cambridge University Press. https://doi.org/10.1017/9781108882316\n"
   ]
  },
  {
   "cell_type": "code",
   "execution_count": 1,
   "metadata": {},
   "outputs": [
    {
     "data": {
      "image/png": "[encoded data removed]",
      "text/plain": [
       "<Figure size 640x480 with 1 Axes>"
      ]
     },
     "metadata": {},
     "output_type": "display_data"
    }
   ],
   "source": [
    "import numpy as np\n",
    "import matplotlib.pyplot as plt\n",
    "import matplotlib.animation as animation\n",
    "\n",
    "L = 100  # Lattice size (LxL grid)\n",
    "T = 5  # Temperature remember T_C = 2 / np.log(1+np.sqrt(2)) for J=1, kB=1\n",
    "J = 1  # Interaction strength\n",
    "steps = 200  # Number of frames in the GIF\n",
    "\n",
    "# Initialize lattice with random spins (-1 or +1)\n",
    "lattice = np.random.choice([-1, 1], size=(L, L))\n",
    "\n",
    "def monte_carlo_step(lattice, beta):\n",
    "    \"\"\"\n",
    "    Perform one Monte Carlo step using the Metropolis algorithm.\n",
    "    \"\"\"\n",
    "    for _ in range(L * L):  # Try flipping each spin once on average\n",
    "        i, j = np.random.randint(0, L, size=2)  # Pick a random spin\n",
    "        S = lattice[i, j]\n",
    "\n",
    "        # Compute sum of nearest neighbors\n",
    "        neighbors = (\n",
    "            lattice[(i+1)%L, j] + lattice[i, (j+1)%L] +\n",
    "            lattice[(i-1)%L, j] + lattice[i, (j-1)%L]\n",
    "        )\n",
    "\n",
    "        # Energy change if spin is flipped\n",
    "        dE = 2 * J * S * neighbors\n",
    "\n",
    "        # Metropolis criterion (will discuss in the next class)\n",
    "        if dE < 0 or np.random.rand() < np.exp(-beta * dE):\n",
    "            lattice[i, j] *= -1  # flip spin\n",
    "\n",
    "# Set up Matplotlib figure\n",
    "fig, ax = plt.subplots()\n",
    "img = ax.imshow(lattice, cmap=\"gray\", vmin=-1, vmax=1)\n",
    "\n",
    "def update(frame):\n",
    "    monte_carlo_step(lattice, beta=1/T)\n",
    "    img.set_data(lattice)\n",
    "    return img,\n",
    "\n",
    "ani = animation.FuncAnimation(fig, update, frames=steps, interval=100, blit=False)\n",
    "\n",
    "# ani.save(f\"images/ising_model_T_{T}.gif\", writer=\"pillow\", fps=30)\n",
    "# plt.show()\n"
   ]
  },
  {
   "cell_type": "code",
   "execution_count": null,
   "metadata": {},
   "outputs": [],
   "source": []
  },
  {
   "cell_type": "code",
   "execution_count": null,
   "metadata": {},
   "outputs": [],
   "source": []
  }
 ],
 "metadata": {
  "kernelspec": {
   "display_name": "base",
   "language": "python",
   "name": "python3"
  },
  "language_info": {
   "codemirror_mode": {
    "name": "ipython",
    "version": 3
   },
   "file_extension": ".py",
   "mimetype": "text/x-python",
   "name": "python",
   "nbconvert_exporter": "python",
   "pygments_lexer": "ipython3",
   "version": "3.9.18"
  }
 },
 "nbformat": 4,
 "nbformat_minor": 2
}
